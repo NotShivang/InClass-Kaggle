{
 "cells": [
  {
   "cell_type": "markdown",
   "metadata": {},
   "source": [
    "This file is not complete. A lot of cells were removed to make this look slightly presentable. However, I have included everything important as per the report, including the code for my best XGBoost submission. My overall best submission was an ensemble with average of predictions of my best models which I used MS Excel for."
   ]
  },
  {
   "cell_type": "code",
   "execution_count": 93,
   "metadata": {},
   "outputs": [],
   "source": [
    "import pandas as pd\n",
    "import numpy as np\n",
    "from sklearn.linear_model import LogisticRegression\n",
    "from sklearn.ensemble import RandomForestClassifier as rf\n",
    "from xgboost import XGBClassifier\n",
    "import xgboost as xgb\n",
    "from sklearn.metrics import accuracy_score,roc_auc_score,make_scorer,roc_curve, auc\n",
    "from sklearn.tree import DecisionTreeClassifier \n",
    "from sklearn.model_selection import cross_val_score\n",
    "import matplotlib.pyplot as plt\n",
    "from sklearn.model_selection import GridSearchCV"
   ]
  },
  {
   "cell_type": "code",
   "execution_count": 2,
   "metadata": {},
   "outputs": [],
   "source": [
    "train=pd.read_csv('train_final.csv')\n",
    "test=pd.read_csv('test_final.csv')"
   ]
  },
  {
   "cell_type": "markdown",
   "metadata": {},
   "source": [
    "### Data Exploration"
   ]
  },
  {
   "cell_type": "code",
   "execution_count": 8,
   "metadata": {},
   "outputs": [
    {
     "data": {
      "text/html": [
       "<div>\n",
       "<style scoped>\n",
       "    .dataframe tbody tr th:only-of-type {\n",
       "        vertical-align: middle;\n",
       "    }\n",
       "\n",
       "    .dataframe tbody tr th {\n",
       "        vertical-align: top;\n",
       "    }\n",
       "\n",
       "    .dataframe thead th {\n",
       "        text-align: right;\n",
       "    }\n",
       "</style>\n",
       "<table border=\"1\" class=\"dataframe\">\n",
       "  <thead>\n",
       "    <tr style=\"text-align: right;\">\n",
       "      <th></th>\n",
       "      <th>Id</th>\n",
       "      <th>f1</th>\n",
       "      <th>f2</th>\n",
       "      <th>f3</th>\n",
       "      <th>f4</th>\n",
       "      <th>f5</th>\n",
       "      <th>f6</th>\n",
       "      <th>f7</th>\n",
       "      <th>f8</th>\n",
       "      <th>f9</th>\n",
       "      <th>...</th>\n",
       "      <th>f15</th>\n",
       "      <th>f16</th>\n",
       "      <th>f17</th>\n",
       "      <th>f18</th>\n",
       "      <th>f19</th>\n",
       "      <th>f20</th>\n",
       "      <th>f21</th>\n",
       "      <th>f22</th>\n",
       "      <th>f23</th>\n",
       "      <th>f24</th>\n",
       "    </tr>\n",
       "  </thead>\n",
       "  <tbody>\n",
       "    <tr>\n",
       "      <th>0</th>\n",
       "      <td>16384</td>\n",
       "      <td>37733</td>\n",
       "      <td>1</td>\n",
       "      <td>1.77</td>\n",
       "      <td>118603</td>\n",
       "      <td>1</td>\n",
       "      <td>0</td>\n",
       "      <td>118602</td>\n",
       "      <td>118097</td>\n",
       "      <td>1</td>\n",
       "      <td>...</td>\n",
       "      <td>13881</td>\n",
       "      <td>117941</td>\n",
       "      <td>117887</td>\n",
       "      <td>1</td>\n",
       "      <td>117885</td>\n",
       "      <td>1</td>\n",
       "      <td>1</td>\n",
       "      <td>1</td>\n",
       "      <td>1</td>\n",
       "      <td>1</td>\n",
       "    </tr>\n",
       "    <tr>\n",
       "      <th>1</th>\n",
       "      <td>16385</td>\n",
       "      <td>312129</td>\n",
       "      <td>1</td>\n",
       "      <td>3.54</td>\n",
       "      <td>118052</td>\n",
       "      <td>1</td>\n",
       "      <td>0</td>\n",
       "      <td>117961</td>\n",
       "      <td>290919</td>\n",
       "      <td>1</td>\n",
       "      <td>...</td>\n",
       "      <td>14638</td>\n",
       "      <td>118992</td>\n",
       "      <td>290919</td>\n",
       "      <td>1</td>\n",
       "      <td>118321</td>\n",
       "      <td>1</td>\n",
       "      <td>1</td>\n",
       "      <td>1</td>\n",
       "      <td>7</td>\n",
       "      <td>1</td>\n",
       "    </tr>\n",
       "    <tr>\n",
       "      <th>2</th>\n",
       "      <td>16386</td>\n",
       "      <td>24884</td>\n",
       "      <td>1</td>\n",
       "      <td>23.01</td>\n",
       "      <td>118300</td>\n",
       "      <td>1</td>\n",
       "      <td>0</td>\n",
       "      <td>117961</td>\n",
       "      <td>302830</td>\n",
       "      <td>1</td>\n",
       "      <td>...</td>\n",
       "      <td>770</td>\n",
       "      <td>119181</td>\n",
       "      <td>4673</td>\n",
       "      <td>1</td>\n",
       "      <td>128230</td>\n",
       "      <td>1</td>\n",
       "      <td>1</td>\n",
       "      <td>1</td>\n",
       "      <td>14</td>\n",
       "      <td>1</td>\n",
       "    </tr>\n",
       "    <tr>\n",
       "      <th>3</th>\n",
       "      <td>16387</td>\n",
       "      <td>4674</td>\n",
       "      <td>1</td>\n",
       "      <td>1.77</td>\n",
       "      <td>119091</td>\n",
       "      <td>1</td>\n",
       "      <td>0</td>\n",
       "      <td>119062</td>\n",
       "      <td>118036</td>\n",
       "      <td>1</td>\n",
       "      <td>...</td>\n",
       "      <td>16752</td>\n",
       "      <td>143531</td>\n",
       "      <td>290919</td>\n",
       "      <td>1</td>\n",
       "      <td>117905</td>\n",
       "      <td>1</td>\n",
       "      <td>1</td>\n",
       "      <td>1</td>\n",
       "      <td>81</td>\n",
       "      <td>1</td>\n",
       "    </tr>\n",
       "    <tr>\n",
       "      <th>4</th>\n",
       "      <td>16388</td>\n",
       "      <td>68725</td>\n",
       "      <td>1</td>\n",
       "      <td>3.54</td>\n",
       "      <td>118300</td>\n",
       "      <td>1</td>\n",
       "      <td>0</td>\n",
       "      <td>117961</td>\n",
       "      <td>171056</td>\n",
       "      <td>1</td>\n",
       "      <td>...</td>\n",
       "      <td>4945</td>\n",
       "      <td>118360</td>\n",
       "      <td>118638</td>\n",
       "      <td>1</td>\n",
       "      <td>118636</td>\n",
       "      <td>1</td>\n",
       "      <td>1</td>\n",
       "      <td>1</td>\n",
       "      <td>1</td>\n",
       "      <td>1</td>\n",
       "    </tr>\n",
       "  </tbody>\n",
       "</table>\n",
       "<p>5 rows × 25 columns</p>\n",
       "</div>"
      ],
      "text/plain": [
       "      Id      f1  f2     f3      f4  f5  f6      f7      f8  f9  ...    f15  \\\n",
       "0  16384   37733   1   1.77  118603   1   0  118602  118097   1  ...  13881   \n",
       "1  16385  312129   1   3.54  118052   1   0  117961  290919   1  ...  14638   \n",
       "2  16386   24884   1  23.01  118300   1   0  117961  302830   1  ...    770   \n",
       "3  16387    4674   1   1.77  119091   1   0  119062  118036   1  ...  16752   \n",
       "4  16388   68725   1   3.54  118300   1   0  117961  171056   1  ...   4945   \n",
       "\n",
       "      f16     f17  f18     f19  f20  f21  f22  f23  f24  \n",
       "0  117941  117887    1  117885    1    1    1    1    1  \n",
       "1  118992  290919    1  118321    1    1    1    7    1  \n",
       "2  119181    4673    1  128230    1    1    1   14    1  \n",
       "3  143531  290919    1  117905    1    1    1   81    1  \n",
       "4  118360  118638    1  118636    1    1    1    1    1  \n",
       "\n",
       "[5 rows x 25 columns]"
      ]
     },
     "execution_count": 8,
     "metadata": {},
     "output_type": "execute_result"
    }
   ],
   "source": [
    "test.head()"
   ]
  },
  {
   "cell_type": "code",
   "execution_count": 3,
   "metadata": {},
   "outputs": [],
   "source": [
    "x_test=test.iloc[:,1:]"
   ]
  },
  {
   "cell_type": "code",
   "execution_count": 4,
   "metadata": {},
   "outputs": [],
   "source": [
    "X=train.iloc[:,2:]\n",
    "y=train.iloc[:,1]"
   ]
  },
  {
   "cell_type": "code",
   "execution_count": 18,
   "metadata": {},
   "outputs": [
    {
     "data": {
      "text/plain": [
       "(16385, 24)"
      ]
     },
     "execution_count": 18,
     "metadata": {},
     "output_type": "execute_result"
    }
   ],
   "source": [
    "x_test.shape"
   ]
  },
  {
   "cell_type": "code",
   "execution_count": 11,
   "metadata": {
    "scrolled": true
   },
   "outputs": [
    {
     "data": {
      "text/plain": [
       "count    16383.000000\n",
       "mean         0.942135\n",
       "std          0.233495\n",
       "min          0.000000\n",
       "25%          1.000000\n",
       "50%          1.000000\n",
       "75%          1.000000\n",
       "max          1.000000\n",
       "Name: Y, dtype: float64"
      ]
     },
     "execution_count": 11,
     "metadata": {},
     "output_type": "execute_result"
    }
   ],
   "source": [
    "y.describe()"
   ]
  },
  {
   "cell_type": "code",
   "execution_count": 15,
   "metadata": {},
   "outputs": [
    {
     "data": {
      "text/plain": [
       "f1      5141\n",
       "f2         8\n",
       "f3       169\n",
       "f4       170\n",
       "f5         9\n",
       "f6         9\n",
       "f7       125\n",
       "f8      1909\n",
       "f9         9\n",
       "f10      199\n",
       "f11        7\n",
       "f12      179\n",
       "f13      313\n",
       "f14    11423\n",
       "f15     3586\n",
       "f16      422\n",
       "f17       65\n",
       "f18        8\n",
       "f19      313\n",
       "f20        7\n",
       "f21        8\n",
       "f22        5\n",
       "f23      866\n",
       "f24        7\n",
       "dtype: int64"
      ]
     },
     "execution_count": 15,
     "metadata": {},
     "output_type": "execute_result"
    }
   ],
   "source": [
    "x_test.nunique()"
   ]
  },
  {
   "cell_type": "code",
   "execution_count": 29,
   "metadata": {},
   "outputs": [],
   "source": [
    "from sklearn.model_selection import train_test_split\n",
    "X_train, X_test, y_train, y_test = train_test_split(X, y, test_size=0.3)"
   ]
  },
  {
   "cell_type": "code",
   "execution_count": 47,
   "metadata": {
    "scrolled": true
   },
   "outputs": [
    {
     "data": {
      "text/plain": [
       "(4915,)"
      ]
     },
     "execution_count": 47,
     "metadata": {},
     "output_type": "execute_result"
    }
   ],
   "source": [
    "y_test.shape"
   ]
  },
  {
   "cell_type": "markdown",
   "metadata": {},
   "source": [
    "### Logistic Regression"
   ]
  },
  {
   "cell_type": "code",
   "execution_count": 30,
   "metadata": {},
   "outputs": [
    {
     "name": "stderr",
     "output_type": "stream",
     "text": [
      "C:\\Anaconda3\\lib\\site-packages\\sklearn\\linear_model\\logistic.py:432: FutureWarning: Default solver will be changed to 'lbfgs' in 0.22. Specify a solver to silence this warning.\n",
      "  FutureWarning)\n"
     ]
    },
    {
     "data": {
      "text/plain": [
       "LogisticRegression(C=1.0, class_weight=None, dual=False, fit_intercept=True,\n",
       "                   intercept_scaling=1, l1_ratio=None, max_iter=100,\n",
       "                   multi_class='warn', n_jobs=None, penalty='l2',\n",
       "                   random_state=None, solver='warn', tol=0.0001, verbose=0,\n",
       "                   warm_start=False)"
      ]
     },
     "execution_count": 30,
     "metadata": {},
     "output_type": "execute_result"
    }
   ],
   "source": [
    "logreg = LogisticRegression()\n",
    "logreg.fit(X_train, y_train)"
   ]
  },
  {
   "cell_type": "code",
   "execution_count": 34,
   "metadata": {},
   "outputs": [],
   "source": [
    "y_pred=logreg.predict(X_test)"
   ]
  },
  {
   "cell_type": "code",
   "execution_count": 35,
   "metadata": {},
   "outputs": [],
   "source": [
    "y1_pred=logreg.predict(x_test)"
   ]
  },
  {
   "cell_type": "code",
   "execution_count": 37,
   "metadata": {},
   "outputs": [
    {
     "data": {
      "text/plain": [
       "0.5"
      ]
     },
     "execution_count": 37,
     "metadata": {},
     "output_type": "execute_result"
    }
   ],
   "source": [
    "roc_auc_score(y_test.to_numpy(), y_pred)"
   ]
  },
  {
   "cell_type": "code",
   "execution_count": null,
   "metadata": {},
   "outputs": [],
   "source": [
    "np.savetxt(\"logreg1.csv\", y1_pred, delimiter=\",\")"
   ]
  },
  {
   "cell_type": "markdown",
   "metadata": {},
   "source": [
    "### Random Forest"
   ]
  },
  {
   "cell_type": "code",
   "execution_count": 49,
   "metadata": {},
   "outputs": [],
   "source": [
    "model = rf(n_estimators = 7000,max_depth=10)"
   ]
  },
  {
   "cell_type": "code",
   "execution_count": 50,
   "metadata": {},
   "outputs": [
    {
     "data": {
      "text/plain": [
       "RandomForestClassifier(bootstrap=True, class_weight=None, criterion='gini',\n",
       "                       max_depth=10, max_features='auto', max_leaf_nodes=None,\n",
       "                       min_impurity_decrease=0.0, min_impurity_split=None,\n",
       "                       min_samples_leaf=1, min_samples_split=2,\n",
       "                       min_weight_fraction_leaf=0.0, n_estimators=7000,\n",
       "                       n_jobs=None, oob_score=False, random_state=None,\n",
       "                       verbose=0, warm_start=False)"
      ]
     },
     "execution_count": 50,
     "metadata": {},
     "output_type": "execute_result"
    }
   ],
   "source": [
    "model.fit(X_train,y_train)"
   ]
  },
  {
   "cell_type": "code",
   "execution_count": 51,
   "metadata": {},
   "outputs": [],
   "source": [
    "y_pred=model.predict_proba(X_test)"
   ]
  },
  {
   "cell_type": "code",
   "execution_count": 53,
   "metadata": {},
   "outputs": [
    {
     "data": {
      "text/plain": [
       "0.8443355195437166"
      ]
     },
     "execution_count": 53,
     "metadata": {},
     "output_type": "execute_result"
    }
   ],
   "source": [
    "roc_auc_score(y_test, y_pred[:,1])"
   ]
  },
  {
   "cell_type": "code",
   "execution_count": 54,
   "metadata": {},
   "outputs": [
    {
     "data": {
      "text/plain": [
       "0.9424387204789236"
      ]
     },
     "execution_count": 54,
     "metadata": {},
     "output_type": "execute_result"
    }
   ],
   "source": [
    "y1_pred=model.predict_proba(x_test)[:,1]\n",
    "y1_pred.mean()"
   ]
  },
  {
   "cell_type": "markdown",
   "metadata": {},
   "source": [
    "### XGBoost"
   ]
  },
  {
   "cell_type": "code",
   "execution_count": 537,
   "metadata": {
    "scrolled": false
   },
   "outputs": [
    {
     "data": {
      "text/plain": [
       "XGBClassifier(base_score=0.5, booster='gbtree', colsample_bylevel=1,\n",
       "              colsample_bynode=1, colsample_bytree=0.3, gamma=0.0,\n",
       "              learning_rate=0.0491, max_delta_step=0, max_depth=11,\n",
       "              min_child_weight=1.5, missing=None, n_estimators=255, n_jobs=1,\n",
       "              nthread=None, objective='binary:logistic', random_state=0,\n",
       "              reg_alpha=0.0011, reg_lambda=1, scale_pos_weight=1, seed=None,\n",
       "              silent=None, subsample=1, verbosity=1)"
      ]
     },
     "execution_count": 537,
     "metadata": {},
     "output_type": "execute_result"
    }
   ],
   "source": [
    "model = xgb.XGBClassifier(base_score=0.5, booster='gbtree', colsample_bylevel=1,\n",
    "      colsample_bynode=1, colsample_bytree=0.3, gamma=0.0,\n",
    "      learning_rate=0.0491, max_delta_step=0, max_depth=11,\n",
    "      min_child_weight=1.5, missing=None, n_estimators=255,n_jobs=1,\n",
    "      nthread=None, objective='binary:logistic', random_state=0,\n",
    "      reg_alpha=0.0011, reg_lambda=1, scale_pos_weight=1, seed=None,\n",
    "      silent=None, subsample=1, verbosity=1)\n",
    "\n",
    "model.fit(Xt_train,y_train)"
   ]
  },
  {
   "cell_type": "code",
   "execution_count": 538,
   "metadata": {
    "scrolled": true
   },
   "outputs": [
    {
     "data": {
      "text/plain": [
       "0.8982290558704598"
      ]
     },
     "execution_count": 538,
     "metadata": {},
     "output_type": "execute_result"
    }
   ],
   "source": [
    "y1_pred=model.predict_proba(Xt_test)[:,1]\n",
    "roc_auc_score(y_test.to_numpy(), y1_pred)"
   ]
  },
  {
   "cell_type": "code",
   "execution_count": 448,
   "metadata": {},
   "outputs": [
    {
     "data": {
      "text/plain": [
       "15573.572"
      ]
     },
     "execution_count": 448,
     "metadata": {},
     "output_type": "execute_result"
    }
   ],
   "source": [
    "y1_pred=model.predict_proba(xt_test)[:,1]\n",
    "y1_pred.sum()"
   ]
  },
  {
   "cell_type": "markdown",
   "metadata": {},
   "source": [
    "### XGB with DMatrix and Feature Selection"
   ]
  },
  {
   "cell_type": "code",
   "execution_count": 68,
   "metadata": {},
   "outputs": [],
   "source": [
    "dtrain = xgb.DMatrix(data=X_train,label=y_train)\n",
    "# dtrain = xgb.DMatrix(data=X,label=y)"
   ]
  },
  {
   "cell_type": "code",
   "execution_count": 69,
   "metadata": {},
   "outputs": [],
   "source": [
    "dvalid = xgb.DMatrix(X_test,label=y_test)"
   ]
  },
  {
   "cell_type": "code",
   "execution_count": 91,
   "metadata": {},
   "outputs": [],
   "source": [
    "params = {\"objective\":\"binary:logistic\",'colsample_bytree': 0.3,'learning_rate': 0.0018,\n",
    "                'max_depth': 16,'min_child_weight':1.5,'alpha':0.0009}\n",
    "model = xgb.train(params, dtrain, 220000)"
   ]
  },
  {
   "cell_type": "code",
   "execution_count": 28,
   "metadata": {
    "scrolled": true
   },
   "outputs": [
    {
     "data": {
      "image/png": "[encoded data removed]",
      "text/plain": [
       "<Figure size 432x288 with 1 Axes>"
      ]
     },
     "metadata": {
      "needs_background": "light"
     },
     "output_type": "display_data"
    }
   ],
   "source": [
    "xgb.plot_importance(model)\n",
    "plt.rcParams['figure.figsize'] = [5, 5]\n",
    "plt.show()"
   ]
  },
  {
   "cell_type": "code",
   "execution_count": 651,
   "metadata": {},
   "outputs": [],
   "source": [
    "# Xt_train=X_train.loc[:,('f14','f15','f1','f16','f8','f4','f13','f23','f19','f17','f7','f12','f10','f3')]\n",
    "# Xt_test=X_test.loc[:,('f14','f15','f1','f16','f8','f4','f13','f23','f19','f17','f7','f12','f10','f3')]\n",
    "# xt_test=x_test.loc[:,('f14','f15','f1','f16','f8','f4','f13','f23','f19','f17','f7','f12','f10','f3')]"
   ]
  },
  {
   "cell_type": "code",
   "execution_count": 652,
   "metadata": {},
   "outputs": [],
   "source": [
    "#Xt=X.loc[:,('f14','f15','f1','f16','f8','f4','f13','f23','f19','f17','f7','f12','f10','f3')]"
   ]
  },
  {
   "cell_type": "code",
   "execution_count": null,
   "metadata": {},
   "outputs": [],
   "source": [
    "Xt_train=X_train.loc[:,('f14','f15','f1','f16','f8','f4')]\n",
    "Xt_test=X_test.loc[:,('f14','f15','f1','f16','f8','f4')]\n",
    "xt_test=x_test.loc[:,('f14','f15','f1','f16','f8','f4')]"
   ]
  },
  {
   "cell_type": "code",
   "execution_count": null,
   "metadata": {},
   "outputs": [],
   "source": [
    "Xt=X.loc[:,('f14','f15','f1','f16','f8','f4')]"
   ]
  },
  {
   "cell_type": "code",
   "execution_count": 103,
   "metadata": {},
   "outputs": [],
   "source": [
    "Xt_train=X_train.loc[:,('f14','f15','f1','f16','f8','f4','f13','f23','f19')]\n",
    "Xt_test=X_test.loc[:,('f14','f15','f1','f16','f8','f4','f13','f23','f19')]\n",
    "xt_test=x_test.loc[:,('f14','f15','f1','f16','f8','f4','f13','f23','f19')]"
   ]
  },
  {
   "cell_type": "code",
   "execution_count": 104,
   "metadata": {},
   "outputs": [],
   "source": [
    "Xt=X.loc[:,('f14','f15','f1','f16','f8','f4','f13','f23','f19')]"
   ]
  },
  {
   "cell_type": "markdown",
   "metadata": {},
   "source": [
    "### XGB with DMatrix on new features"
   ]
  },
  {
   "cell_type": "code",
   "execution_count": 106,
   "metadata": {},
   "outputs": [],
   "source": [
    "dtrain = xgb.DMatrix(data=Xt_train,label=y_train)\n",
    "# dtrain = xgb.DMatrix(data=Xt,label=y)"
   ]
  },
  {
   "cell_type": "code",
   "execution_count": 107,
   "metadata": {},
   "outputs": [],
   "source": [
    "dvalid = xgb.DMatrix(Xt_test,label=y_test)"
   ]
  },
  {
   "cell_type": "code",
   "execution_count": 142,
   "metadata": {},
   "outputs": [],
   "source": [
    "params = {\"objective\":\"binary:logistic\",'colsample_bytree': 0.3,'learning_rate': 0.085,\n",
    "                'max_depth': 16,'min_child_weight':1.5,'alpha':0.001}\n",
    "model = xgb.train(params, dtrain, 120)\n"
   ]
  },
  {
   "cell_type": "code",
   "execution_count": 143,
   "metadata": {},
   "outputs": [
    {
     "data": {
      "text/plain": [
       "0.9029434090999714"
      ]
     },
     "execution_count": 143,
     "metadata": {},
     "output_type": "execute_result"
    }
   ],
   "source": [
    "y1_pred=model.predict(dvalid)\n",
    "roc_auc_score(y_test.to_numpy(), y1_pred)"
   ]
  },
  {
   "cell_type": "code",
   "execution_count": 73,
   "metadata": {},
   "outputs": [
    {
     "data": {
      "text/plain": [
       "15706.512"
      ]
     },
     "execution_count": 73,
     "metadata": {},
     "output_type": "execute_result"
    }
   ],
   "source": [
    "y1_pred=model.predict(xgb.DMatrix(xt_test))\n",
    "y1_pred.sum()"
   ]
  },
  {
   "cell_type": "code",
   "execution_count": 74,
   "metadata": {},
   "outputs": [
    {
     "data": {
      "text/plain": [
       "0.95859087"
      ]
     },
     "execution_count": 74,
     "metadata": {},
     "output_type": "execute_result"
    }
   ],
   "source": [
    "y1_pred.mean()"
   ]
  },
  {
   "cell_type": "code",
   "execution_count": null,
   "metadata": {},
   "outputs": [],
   "source": [
    "X.shape"
   ]
  },
  {
   "cell_type": "code",
   "execution_count": 212,
   "metadata": {},
   "outputs": [],
   "source": [
    "np.savetxt(\"dtrainbest1859.csv\", y1_pred, delimiter=\",\")"
   ]
  },
  {
   "cell_type": "markdown",
   "metadata": {},
   "source": [
    "### GridSearchCV"
   ]
  },
  {
   "cell_type": "code",
   "execution_count": 96,
   "metadata": {},
   "outputs": [],
   "source": [
    "tuned_parameters = [{'learning_rate': [0.04, 0.045, 0.05, 0.055, 0.06, 0.065, 0.07, 0.075, 0.08, 0.085, 0.09, 0.095, 0.1], \n",
    "                     'alpha': [0.0009, 0.001, 0.0011],\n",
    "                     'num_boost_round': [100,110,120,130,140,150,160,170,180,190,200,210,220,230,240,250],\n",
    "                      'max_depth': [9,10,11,12,13,14,15,16]  }]"
   ]
  },
  {
   "cell_type": "code",
   "execution_count": null,
   "metadata": {},
   "outputs": [],
   "source": [
    "clf = GridSearchCV(xgb.XGBClassifier(), tuned_parameters, cv=10,\n",
    "                       scoring='roc_auc')\n",
    "clf.fit(Xt_train, y_train)"
   ]
  },
  {
   "cell_type": "markdown",
   "metadata": {},
   "source": [
    "Manual Implementation of Grid Search to incorporate DMatrix (takes a while):"
   ]
  },
  {
   "cell_type": "code",
   "execution_count": 109,
   "metadata": {},
   "outputs": [
    {
     "name": "stdout",
     "output_type": "stream",
     "text": [
      "0.04   9   100   0.0009   0.8794214640471525\n",
      "0.04   9   100   0.001   0.8794233100928487\n",
      "0.04   9   100   0.0011   0.8795975768065771\n",
      "0.04   9   110   0.0009   0.8813369210616093\n",
      "0.04   9   110   0.001   0.8813376594798877\n",
      "0.04   9   110   0.0011   0.8811050577221569\n",
      "0.04   9   120   0.0009   0.8823326781101809\n",
      "0.04   9   120   0.001   0.8823341549467378\n",
      "0.04   9   120   0.0011   0.8818995957898343\n",
      "0.04   9   130   0.0009   0.8834967945262528\n",
      "0.04   9   130   0.001   0.8834960561079744\n",
      "0.04   9   130   0.0011   0.8827546841563498\n",
      "0.04   9   140   0.0009   0.8857659538961163\n",
      "0.04   9   140   0.001   0.8857670615235342\n",
      "0.04   9   140   0.0011   0.8846989394836684\n",
      "0.04   9   150   0.0009   0.8886845521419299\n",
      "0.04   9   150   0.001   0.8886845521419298\n",
      "0.04   9   150   0.0011   0.8872930028960764\n",
      "0.04   9   160   0.0009   0.8881418147072244\n",
      "0.04   9   160   0.001   0.88814402996206\n",
      "0.04   9   160   0.0011   0.8867727872188657\n",
      "0.04   9   170   0.0009   0.8896179128459675\n",
      "0.04   9   170   0.001   0.8896186512642458\n",
      "0.04   9   170   0.0011   0.8875802476064172\n",
      "0.04   9   180   0.0009   0.8921196739735617\n",
      "0.04   9   180   0.001   0.8921211508101187\n",
      "0.04   9   180   0.0011   0.8894255548844154\n",
      "0.04   9   190   0.0009   0.892900920512226\n",
      "0.04   9   190   0.001   0.8929020281396437\n",
      "0.04   9   190   0.0011   0.8913520881730498\n",
      "0.04   9   200   0.0009   0.8925760164696813\n",
      "0.04   9   200   0.001   0.8925738012148456\n",
      "0.04   9   200   0.0011   0.8912941223381867\n",
      "0.04   9   210   0.0009   0.8921554872600694\n",
      "0.04   9   210   0.001   0.8921554872600694\n",
      "0.04   9   210   0.0011   0.8911217016701545\n",
      "0.04   9   220   0.0009   0.892473007119829\n",
      "0.04   9   220   0.001   0.8924741147472468\n",
      "0.04   9   220   0.0011   0.8914658045879404\n",
      "0.04   9   230   0.0009   0.8922119762583753\n",
      "0.04   9   230   0.001   0.8922127146766541\n",
      "0.04   9   230   0.0011   0.890758030667988\n",
      "0.04   9   240   0.0009   0.8915521995265262\n",
      "0.04   9   240   0.001   0.8915529379448047\n",
      "0.04   9   240   0.0011   0.8911276090163824\n",
      "0.04   9   250   0.0009   0.8920066959769495\n",
      "0.04   9   250   0.001   0.8920063267678102\n",
      "0.04   9   250   0.0011   0.8913232898601879\n",
      "0.04   10   100   0.0009   0.8861931288702349\n",
      "0.04   10   100   0.001   0.8862060511901088\n",
      "0.04   10   100   0.0011   0.8862053127718303\n",
      "0.04   10   110   0.0009   0.8888004838116562\n",
      "0.04   10   110   0.001   0.8888086064127196\n",
      "0.04   10   110   0.0011   0.8888108216675552\n",
      "0.04   10   120   0.0009   0.888736610630565\n",
      "0.04   10   120   0.001   0.8887547018783883\n",
      "0.04   10   120   0.0011   0.8887569171332239\n",
      "0.04   10   130   0.0009   0.8886867673967653\n",
      "0.04   10   130   0.001   0.8881923963593026\n",
      "0.04   10   130   0.0011   0.888191657941024\n",
      "0.04   10   140   0.0009   0.8899749380836274\n",
      "0.04   10   140   0.001   0.8901144991382659\n",
      "0.04   10   140   0.0011   0.8901152375565443\n",
      "0.04   10   150   0.0009   0.8917327427956221\n",
      "0.04   10   150   0.001   0.8921617638154369\n",
      "0.04   10   150   0.0011   0.892163609861133\n",
      "0.04   10   160   0.0009   0.8913867938321398\n",
      "0.04   10   160   0.001   0.8916710848693663\n",
      "0.04   10   160   0.0011   0.891671823287645\n",
      "0.04   10   170   0.0009   0.8928189560833114\n",
      "0.04   10   170   0.001   0.8924859294397031\n",
      "0.04   10   170   0.0011   0.8924870370671207\n",
      "0.04   10   180   0.0009   0.8935414983688341\n",
      "0.04   10   180   0.001   0.8932904361541403\n",
      "0.04   10   180   0.0011   0.8932900669450012\n",
      "0.04   10   190   0.0009   0.894815269899265\n",
      "0.04   10   190   0.001   0.8943260677897515\n",
      "0.04   10   190   0.0011   0.8943260677897518\n",
      "0.04   10   200   0.0009   0.8953576381248309\n",
      "0.04   10   200   0.001   0.8943969559444886\n",
      "0.04   10   200   0.0011   0.8943973251536278\n",
      "0.04   10   210   0.0009   0.8955005220617229\n",
      "0.04   10   210   0.001   0.894108234397591\n",
      "0.04   10   210   0.0011   0.8941119264889836\n",
      "0.04   10   220   0.0009   0.8955728870530171\n",
      "0.04   10   220   0.001   0.8939668272972563\n",
      "0.04   10   220   0.0011   0.8939686733429524\n",
      "0.04   10   230   0.0009   0.8953192403743485\n",
      "0.04   10   230   0.001   0.8925819238159093\n",
      "0.04   10   230   0.0011   0.8923932579457499\n",
      "0.04   10   240   0.0009   0.8950604247677305\n",
      "0.04   10   240   0.001   0.8917663408272942\n",
      "0.04   10   240   0.0011   0.8921270581563469\n",
      "0.04   10   250   0.0009   0.8952690279314097\n",
      "0.04   10   250   0.001   0.8924043342199275\n",
      "0.04   10   250   0.0011   0.8922005307750587\n",
      "0.04   11   100   0.0009   0.8884512119659205\n",
      "0.04   11   100   0.001   0.8887650397342877\n",
      "0.04   11   100   0.0011   0.8877223931250304\n",
      "0.04   11   110   0.0009   0.8914565743594591\n",
      "0.04   11   110   0.001   0.8918774727782101\n",
      "0.04   11   110   0.0011   0.8911453310550669\n",
      "0.04   11   120   0.0009   0.8924504853623345\n",
      "0.04   11   120   0.001   0.8925420492288698\n",
      "0.04   11   120   0.0011   0.891761541108484\n",
      "0.04   11   130   0.0009   0.8929400566809871\n",
      "0.04   11   130   0.001   0.8933628011454344\n",
      "0.04   11   130   0.0011   0.8920849683144717\n",
      "0.04   11   140   0.0009   0.8948665899696215\n",
      "0.04   11   140   0.001   0.8951697106729501\n",
      "0.04   11   140   0.0011   0.8943855104611718\n",
      "0.04   11   150   0.0009   0.896492587018902\n",
      "0.04   11   150   0.001   0.8970441854729496\n",
      "0.04   11   150   0.0011   0.896359302519631\n",
      "0.04   11   160   0.0009   0.8964058228711771\n",
      "0.04   11   160   0.001   0.8970678148578619\n",
      "0.04   11   160   0.0011   0.8966860526078718\n",
      "0.04   11   170   0.0009   0.8977600819939657\n",
      "0.04   11   170   0.001   0.8977508517654842\n",
      "0.04   11   170   0.0011   0.8977656201310544\n",
      "0.04   11   180   0.0009   0.8986668596399768\n",
      "0.04   11   180   0.001   0.8989330594293798\n",
      "0.04   11   180   0.0011   0.898752516160284\n",
      "0.04   11   190   0.0009   0.8987982980935516\n",
      "0.04   11   190   0.001   0.8992719934192163\n",
      "0.04   11   190   0.0011   0.8992343340870121\n",
      "0.04   11   200   0.0009   0.8983500781984957\n",
      "0.04   11   200   0.001   0.8995662531032028\n",
      "0.04   11   200   0.0011   0.8992900846670399\n",
      "0.04   11   210   0.0009   0.8981603047009186\n",
      "0.04   11   210   0.001   0.8995138254054286\n",
      "0.04   11   210   0.0011   0.8989326902202408\n",
      "0.04   11   220   0.0009   0.8982843589717082\n",
      "0.04   11   220   0.001   0.9001916933851014\n",
      "0.04   11   220   0.0011   0.8990744665297147\n",
      "0.04   11   230   0.0009   0.8983242335587479\n",
      "0.04   11   230   0.001   0.9002500284291037\n",
      "0.04   11   230   0.0011   0.899058959745866\n",
      "0.04   11   240   0.0009   0.8977512209746235\n",
      "0.04   11   240   0.001   0.9005457649496472\n",
      "0.04   11   240   0.0011   0.899066343928651\n",
      "0.04   11   250   0.0009   0.8981566126095258\n",
      "0.04   11   250   0.001   0.9014086067080869\n",
      "0.04   11   250   0.0011   0.899174891415592\n",
      "0.04   12   100   0.0009   0.8882917136177622\n",
      "0.04   12   100   0.001   0.8882961441274333\n",
      "0.04   12   100   0.0011   0.8882979901731295\n",
      "0.04   12   110   0.0009   0.8910692739723802\n",
      "0.04   12   110   0.001   0.8910737044820514\n",
      "0.04   12   110   0.0011   0.8910737044820513\n",
      "0.04   12   120   0.0009   0.8919051634636543\n",
      "0.04   12   120   0.001   0.8919044250453758\n",
      "0.04   12   120   0.0011   0.8919055326727936\n",
      "0.04   12   130   0.0009   0.8925372495100594\n",
      "0.04   12   130   0.001   0.892944487190658\n",
      "0.04   12   130   0.0011   0.8929459640272152\n",
      "0.04   12   140   0.0009   0.8949142179485854\n",
      "0.04   12   140   0.001   0.895411173450023\n",
      "0.04   12   140   0.0011   0.8954104350317447\n",
      "0.04   12   150   0.0009   0.8964132070539621\n",
      "0.04   12   150   0.001   0.8966746071245549\n",
      "0.04   12   150   0.0011   0.8966746071245549\n",
      "0.04   12   160   0.0009   0.8964353596023173\n",
      "0.04   12   160   0.001   0.896437574857153\n",
      "0.04   12   160   0.0011   0.8964386824845708\n",
      "0.04   12   170   0.0009   0.8967466029067097\n",
      "0.04   12   170   0.001   0.8969755125730481\n",
      "0.04   12   170   0.0011   0.8969769894096051\n",
      "0.04   12   180   0.0009   0.89763898139629\n",
      "0.04   12   180   0.001   0.8982311928556554\n",
      "0.04   12   180   0.0011   0.898230454437377\n",
      "0.04   12   190   0.0009   0.8980163131366089\n",
      "0.04   12   190   0.001   0.8982500225217576\n",
      "0.04   12   190   0.0011   0.8982503917308968\n",
      "0.04   12   200   0.0009   0.898419858725815\n",
      "0.04   12   200   0.001   0.8987384862129922\n",
      "0.04   12   200   0.0011   0.8987384862129923\n",
      "0.04   12   210   0.0009   0.8985660655449601\n",
      "0.04   12   210   0.001   0.8989016766525432\n",
      "0.04   12   210   0.0011   0.8989020458616823\n",
      "0.04   12   220   0.0009   0.8987311020302071\n"
     ]
    },
    {
     "name": "stdout",
     "output_type": "stream",
     "text": [
      "0.04   12   220   0.001   0.8987030421356238\n",
      "0.04   12   220   0.0011   0.8987037805539023\n",
      "0.04   12   230   0.0009   0.8986177548244558\n",
      "0.04   12   230   0.001   0.8983995522231559\n",
      "0.04   12   230   0.0011   0.8983995522231558\n",
      "0.04   12   240   0.0009   0.8986613215028878\n",
      "0.04   12   240   0.001   0.898636953699697\n",
      "0.04   12   240   0.0011   0.8986380613271149\n",
      "0.04   12   250   0.0009   0.8984298273725748\n",
      "0.04   12   250   0.001   0.8991172947898683\n",
      "0.04   12   250   0.0011   0.8991531080763762\n",
      "0.04   13   100   0.0009   0.8890711141107304\n",
      "0.04   13   100   0.001   0.8890703756924517\n",
      "0.04   13   100   0.0011   0.8893494978017289\n",
      "0.04   13   110   0.0009   0.8930966013560313\n",
      "0.04   13   110   0.001   0.8930903248006639\n",
      "0.04   13   110   0.0011   0.8928754450816174\n",
      "0.04   13   120   0.0009   0.8942178895119499\n",
      "0.04   13   120   0.001   0.894209397701747\n",
      "0.04   13   120   0.0011   0.8934462424109063\n",
      "0.04   13   130   0.0009   0.8941813378071636\n",
      "0.04   13   130   0.001   0.8941850298985562\n",
      "0.04   13   130   0.0011   0.8944977500395055\n",
      "0.04   13   140   0.0009   0.8958036427650515\n",
      "0.04   13   140   0.001   0.8956024237841574\n",
      "0.04   13   140   0.0011   0.8965324616059417\n",
      "0.04   13   150   0.0009   0.8969847428015294\n",
      "0.04   13   150   0.001   0.896694913627214\n",
      "0.04   13   150   0.0011   0.8971686089528788\n",
      "0.04   13   160   0.0009   0.8973842270902037\n",
      "0.04   13   160   0.001   0.8967307269137217\n",
      "0.04   13   160   0.0011   0.8971483024502196\n",
      "0.04   13   170   0.0009   0.8980403117306605\n",
      "0.04   13   170   0.001   0.8977567591117123\n",
      "0.04   13   170   0.0011   0.8978671526443497\n",
      "0.04   13   180   0.0009   0.8990109625577628\n",
      "0.04   13   180   0.001   0.898569019218074\n",
      "0.04   13   180   0.0011   0.8991128642801972\n",
      "0.04   13   190   0.0009   0.8996268034020407\n",
      "0.04   13   190   0.001   0.8989869639637112\n",
      "0.04   13   190   0.0011   0.9003829437192357\n",
      "0.04   13   200   0.0009   0.8996751697992831\n",
      "0.04   13   200   0.001   0.8993450968287888\n",
      "0.04   13   200   0.0011   0.9009670325775376\n",
      "0.04   13   210   0.0009   0.8996855076551822\n",
      "0.04   13   210   0.001   0.899648955950396\n",
      "0.04   13   210   0.0011   0.9013251654426153\n",
      "0.04   13   220   0.0009   0.9004028810127553\n",
      "0.04   13   220   0.001   0.9000765001336537\n",
      "0.04   13   220   0.0011   0.9011032707499228\n",
      "0.04   13   230   0.0009   0.9007580602047192\n",
      "0.04   13   230   0.001   0.9005919160920541\n",
      "0.04   13   230   0.0011   0.9013543329646164\n",
      "0.04   13   240   0.0009   0.9009109127883708\n",
      "0.04   13   240   0.001   0.9001551416803151\n",
      "0.04   13   240   0.0011   0.9009086975335353\n",
      "0.04   13   250   0.0009   0.9011479450557727\n",
      "0.04   13   250   0.001   0.9004560471288083\n",
      "0.04   13   250   0.0011   0.90092125064427\n",
      "0.04   14   100   0.0009   0.8892055062374193\n",
      "0.04   14   100   0.001   0.889169323741772\n",
      "0.04   14   100   0.0011   0.8891737542514433\n",
      "0.04   14   110   0.0009   0.8918881798432486\n",
      "0.04   14   110   0.001   0.8920742612494333\n",
      "0.04   14   110   0.0011   0.8920727844128763\n",
      "0.04   14   120   0.0009   0.8928067721817159\n",
      "0.04   14   120   0.001   0.8929492869094684\n",
      "0.04   14   120   0.0011   0.8929489177003292\n",
      "0.04   14   130   0.0009   0.8933096350293817\n",
      "0.04   14   130   0.001   0.8934525189662735\n",
      "0.04   14   130   0.0011   0.8934584263125016\n",
      "0.04   14   140   0.0009   0.894848498721798\n",
      "0.04   14   140   0.001   0.8949980284231962\n",
      "0.04   14   140   0.0011   0.8949995052597535\n",
      "0.04   14   150   0.0009   0.8959199436439169\n",
      "0.04   14   150   0.001   0.8958904069127765\n",
      "0.04   14   150   0.0011   0.8958981603047008\n",
      "0.04   14   160   0.0009   0.8964682192157111\n",
      "0.04   14   160   0.001   0.89624078638593\n",
      "0.04   14   160   0.0011   0.8962448476864617\n",
      "0.04   14   170   0.0009   0.8973971494100776\n",
      "0.04   14   170   0.001   0.8967835238206352\n",
      "0.04   14   170   0.0011   0.8967898003760024\n",
      "0.04   14   180   0.0009   0.8983135264937094\n",
      "0.04   14   180   0.001   0.8977456828375346\n",
      "0.04   14   180   0.0011   0.897746052046674\n",
      "0.04   14   190   0.0009   0.8991202484629823\n",
      "0.04   14   190   0.001   0.8977933108164986\n",
      "0.04   14   190   0.0011   0.8977925723982201\n",
      "0.04   14   200   0.0009   0.8994562287797047\n",
      "0.04   14   200   0.001   0.8978985354211864\n",
      "0.04   14   200   0.0011   0.89789668937549\n",
      "0.04   14   210   0.0009   0.8994990570398582\n",
      "0.04   14   210   0.001   0.8979454249818718\n",
      "0.04   14   210   0.0011   0.8977689430133078\n",
      "0.04   14   220   0.0009   0.8993528502207132\n",
      "0.04   14   220   0.001   0.898017789973166\n",
      "0.04   14   220   0.0011   0.8979542860012139\n",
      "0.04   14   230   0.0009   0.8994739508183891\n",
      "0.04   14   230   0.001   0.8981100922579798\n",
      "0.04   14   230   0.0011   0.8980096673721023\n",
      "0.04   14   240   0.0009   0.8993185137707624\n",
      "0.04   14   240   0.001   0.8980949546832702\n",
      "0.04   14   240   0.0011   0.898127814296664\n",
      "0.04   14   250   0.0009   0.8993768488147648\n",
      "0.04   14   250   0.001   0.8986963963711172\n",
      "0.04   14   250   0.0011   0.8981403674073987\n",
      "0.04   15   100   0.0009   0.889257195516915\n",
      "0.04   15   100   0.001   0.8888222671508721\n",
      "0.04   15   100   0.0011   0.8888422044443919\n",
      "0.04   15   110   0.0009   0.8935171305656431\n",
      "0.04   15   110   0.001   0.8923016940792146\n",
      "0.04   15   110   0.0011   0.8923105550985567\n",
      "0.04   15   120   0.0009   0.8946782933086013\n",
      "0.04   15   120   0.001   0.893741240513171\n",
      "0.04   15   120   0.0011   0.8937814843093501\n",
      "0.04   15   130   0.0009   0.8955352277208128\n",
      "0.04   15   130   0.001   0.89433677485479\n",
      "0.04   15   130   0.0011   0.894377018650969\n",
      "0.04   15   140   0.0009   0.897062276720773\n",
      "0.04   15   140   0.001   0.8958088116930012\n",
      "0.04   15   140   0.0011   0.8957309085646182\n",
      "0.04   15   150   0.0009   0.8980292354564827\n",
      "0.04   15   150   0.001   0.8971852233641451\n",
      "0.04   15   150   0.0011   0.8965834124671589\n",
      "0.04   15   160   0.0009   0.8978767520819705\n",
      "0.04   15   160   0.001   0.8971804236453347\n",
      "0.04   15   160   0.0011   0.8967152201298729\n",
      "0.04   15   170   0.0009   0.8984154282161438\n",
      "0.04   15   170   0.001   0.8984567796397405\n",
      "0.04   15   170   0.0011   0.8972542654731859\n",
      "0.04   15   180   0.0009   0.8990124393943197\n",
      "0.04   15   180   0.001   0.8990582213275874\n",
      "0.04   15   180   0.0011   0.8978715831540208\n",
      "0.04   15   190   0.0009   0.8999147865306598\n",
      "0.04   15   190   0.001   0.8997198441051332\n",
      "0.04   15   190   0.0011   0.898683104842104\n",
      "0.04   15   200   0.0009   0.8997759638942999\n",
      "0.04   15   200   0.001   0.9000484402390703\n",
      "0.04   15   200   0.0011   0.8989249368283161\n",
      "0.04   15   210   0.0009   0.8996434178133071\n",
      "0.04   15   210   0.001   0.9003275623483472\n",
      "0.04   15   210   0.0011   0.8989755184803944\n",
      "0.04   15   220   0.0009   0.8994244767937288\n",
      "0.04   15   220   0.001   0.8994979494124404\n",
      "0.04   15   220   0.0011   0.8985162223111606\n",
      "0.04   15   230   0.0009   0.8994429372506916\n",
      "0.04   15   230   0.001   0.8997925783055664\n",
      "0.04   15   230   0.0011   0.8992509484982787\n",
      "0.04   15   240   0.0009   0.8993159293067877\n",
      "0.04   15   240   0.001   0.8996807079363719\n",
      "0.04   15   240   0.0011   0.8989042611165181\n",
      "0.04   15   250   0.0009   0.8996570785514597\n",
      "0.04   15   250   0.001   0.9001732329281384\n",
      "0.04   15   250   0.0011   0.8993210982347373\n",
      "0.04   16   100   0.0009   0.8879638559021035\n",
      "0.04   16   100   0.001   0.8878852143554422\n",
      "0.04   16   100   0.0011   0.8878165414555406\n",
      "0.04   16   110   0.0009   0.8916024119694649\n",
      "0.04   16   110   0.001   0.8920270024796086\n",
      "0.04   16   110   0.0011   0.8920388171720646\n",
      "0.04   16   120   0.0009   0.8926771797738372\n",
      "0.04   16   120   0.001   0.8933170192121667\n",
      "0.04   16   120   0.0011   0.8935167613565038\n",
      "0.04   16   130   0.0009   0.8938907702145698\n",
      "0.04   16   130   0.001   0.8943138838881562\n",
      "0.04   16   130   0.0011   0.8947739184756683\n",
      "0.04   16   140   0.0009   0.8950419643107678\n",
      "0.04   16   140   0.001   0.8951619572810258\n",
      "0.04   16   140   0.0011   0.8963028135213247\n",
      "0.04   16   150   0.0009   0.895885237984827\n",
      "0.04   16   150   0.001   0.896102332958709\n",
      "0.04   16   150   0.0011   0.8976921475123427\n",
      "0.04   16   160   0.0009   0.8967982921862054\n",
      "0.04   16   160   0.001   0.8970847984782675\n",
      "0.04   16   160   0.0011   0.8988880159143907\n",
      "0.04   16   170   0.0009   0.8980059752807097\n",
      "0.04   16   170   0.001   0.8983722307468511\n",
      "0.04   16   170   0.0011   0.8997922090964271\n",
      "0.04   16   180   0.0009   0.8985088381283755\n"
     ]
    },
    {
     "name": "stdout",
     "output_type": "stream",
     "text": [
      "0.04   16   180   0.001   0.8992782699745838\n",
      "0.04   16   180   0.0011   0.900415064914351\n",
      "0.04   16   190   0.0009   0.8998719582705063\n",
      "0.04   16   190   0.001   0.8998527593952651\n",
      "0.04   16   190   0.0011   0.9009179277620165\n",
      "0.04   16   200   0.0009   0.9001049292373764\n",
      "0.04   16   200   0.001   0.9003999273396414\n",
      "0.04   16   200   0.0011   0.9011523755654437\n",
      "0.04   16   210   0.0009   0.9003043021725743\n",
      "0.04   16   210   0.001   0.9010035842823239\n",
      "0.04   16   210   0.0011   0.9013816544409214\n",
      "0.04   16   220   0.0009   0.899579544632216\n",
      "0.04   16   220   0.001   0.9001340967593775\n",
      "0.04   16   220   0.0011   0.9011608673756466\n",
      "0.04   16   230   0.0009   0.8999085099752926\n",
      "0.04   16   230   0.001   0.9006103765490169\n",
      "0.04   16   230   0.0011   0.9014868790456092\n",
      "0.04   16   240   0.0009   0.9000979142637306\n",
      "0.04   16   240   0.001   0.9004453400637698\n",
      "0.04   16   240   0.0011   0.9018007068139763\n",
      "0.04   16   250   0.0009   0.9001643719087964\n",
      "0.04   16   250   0.001   0.9005915468829149\n",
      "0.04   16   250   0.0011   0.9020598916297334\n",
      "0.045   9   100   0.0009   0.8823005569150657\n",
      "0.045   9   100   0.001   0.8823020337516226\n",
      "0.045   9   100   0.0011   0.8823020337516226\n",
      "0.045   9   110   0.0009   0.8836795530501843\n",
      "0.045   9   110   0.001   0.8836799222593237\n",
      "0.045   9   110   0.0011   0.8836828759324377\n",
      "0.045   9   120   0.0009   0.8830134997629677\n",
      "0.045   9   120   0.001   0.8830146073903855\n",
      "0.045   9   120   0.0011   0.883015345808664\n",
      "0.045   9   130   0.0009   0.8846022066891835\n",
      "0.045   9   130   0.001   0.8846022066891837\n",
      "0.045   9   130   0.0011   0.8846007298526264\n",
      "0.045   9   140   0.0009   0.8860066782549109\n",
      "0.045   9   140   0.001   0.8860059398366325\n",
      "0.045   9   140   0.0011   0.8860074166731893\n",
      "0.045   9   150   0.0009   0.8873454305938507\n",
      "0.045   9   150   0.001   0.8873454305938507\n",
      "0.045   9   150   0.0011   0.8873446921755723\n",
      "0.045   9   160   0.0009   0.8872738040208352\n",
      "0.045   9   160   0.001   0.887274911648253\n",
      "0.045   9   160   0.0011   0.8872745424391137\n",
      "0.045   9   170   0.0009   0.8886760603317272\n",
      "0.045   9   170   0.001   0.8886745834951699\n",
      "0.045   9   170   0.0011   0.8886745834951701\n",
      "0.045   9   180   0.0009   0.8898996194192192\n",
      "0.045   9   180   0.001   0.8898996194192192\n",
      "0.045   9   180   0.0011   0.8898981425826623\n",
      "0.045   9   190   0.0009   0.8908935304220946\n",
      "0.045   9   190   0.001   0.8908913151672591\n",
      "0.045   9   190   0.0011   0.8908905767489805\n",
      "0.045   9   200   0.0009   0.8909773408967055\n",
      "0.045   9   200   0.001   0.8909780793149842\n",
      "0.045   9   200   0.0011   0.8909777101058449\n",
      "0.045   9   210   0.0009   0.8911124714416729\n",
      "0.045   9   210   0.001   0.8911128406508124\n",
      "0.045   9   210   0.0011   0.8911132098599517\n",
      "0.045   9   220   0.0009   0.8917955083492954\n",
      "0.045   9   220   0.001   0.8917966159767132\n",
      "0.045   9   220   0.0011   0.8917973543949917\n",
      "0.045   9   230   0.0009   0.8909858327069085\n",
      "0.045   9   230   0.001   0.8909847250794907\n",
      "0.045   9   230   0.0011   0.8909836174520729\n",
      "0.045   9   240   0.0009   0.889796610069367\n",
      "0.045   9   240   0.001   0.8897962408602278\n",
      "0.045   9   240   0.0011   0.889809532389241\n",
      "0.045   9   250   0.0009   0.8908267035678894\n",
      "0.045   9   250   0.001   0.8908248575221931\n",
      "0.045   9   250   0.0011   0.8906247461687168\n",
      "0.045   10   100   0.0009   0.8866945148813435\n",
      "0.045   10   100   0.001   0.8861506698192205\n",
      "0.045   10   100   0.0011   0.8861514082374988\n",
      "0.045   10   110   0.0009   0.8892704870459281\n",
      "0.045   10   110   0.001   0.8882256251818356\n",
      "0.045   10   110   0.0011   0.8882259943909747\n",
      "0.045   10   120   0.0009   0.8893243915802596\n",
      "0.045   10   120   0.001   0.8882876523172303\n",
      "0.045   10   120   0.0011   0.8882887599446483\n",
      "0.045   10   130   0.0009   0.88979513323281\n",
      "0.045   10   130   0.001   0.8887506405778567\n",
      "0.045   10   130   0.0011   0.8887495329504389\n",
      "0.045   10   140   0.0009   0.8908200578033829\n",
      "0.045   10   140   0.001   0.8899276793138027\n",
      "0.045   10   140   0.0011   0.8899287869412205\n",
      "0.045   10   150   0.0009   0.8926350899319622\n",
      "0.045   10   150   0.001   0.8912631087704892\n",
      "0.045   10   150   0.0011   0.8912620011430714\n",
      "0.045   10   160   0.0009   0.8916548396672392\n",
      "0.045   10   160   0.001   0.8910485982605818\n",
      "0.045   10   160   0.0011   0.8910478598423033\n",
      "0.045   10   170   0.0009   0.8927307150990293\n",
      "0.045   10   170   0.001   0.8914617432874086\n",
      "0.045   10   170   0.0011   0.8914610048691302\n",
      "0.045   10   180   0.0009   0.8936840130965865\n",
      "0.045   10   180   0.001   0.8920336482441151\n",
      "0.045   10   180   0.0011   0.8920325406166973\n",
      "0.045   10   190   0.0009   0.89385089562753\n",
      "0.045   10   190   0.001   0.8930342050114972\n",
      "0.045   10   190   0.0011   0.893033835802358\n",
      "0.045   10   200   0.0009   0.8939147688086211\n",
      "0.045   10   200   0.001   0.8925431568562876\n",
      "0.045   10   200   0.0011   0.8925442644837053\n",
      "0.045   10   210   0.0009   0.8935499901790369\n",
      "0.045   10   210   0.001   0.8924862986488422\n",
      "0.045   10   210   0.0011   0.8924870370671208\n",
      "0.045   10   220   0.0009   0.8937456710228423\n",
      "0.045   10   220   0.001   0.8923995345011173\n",
      "0.045   10   220   0.0011   0.8924017497559527\n",
      "0.045   10   230   0.0009   0.8931220767866399\n",
      "0.045   10   230   0.001   0.8909223287349566\n",
      "0.045   10   230   0.0011   0.8910707508089372\n",
      "0.045   10   240   0.0009   0.8929300880342271\n",
      "0.045   10   240   0.001   0.8903500545691108\n",
      "0.045   10   240   0.0011   0.8906166235676533\n",
      "0.045   10   250   0.0009   0.8934285203722219\n",
      "0.045   10   250   0.001   0.8903891907378718\n",
      "0.045   10   250   0.0011   0.8905767489806136\n",
      "0.045   11   100   0.0009   0.8909607264854391\n",
      "0.045   11   100   0.001   0.8909570343940465\n",
      "0.045   11   100   0.0011   0.8909529730935147\n",
      "0.045   11   110   0.0009   0.8936662910579024\n",
      "0.045   11   110   0.001   0.8936382311633189\n",
      "0.045   11   110   0.0011   0.8936662910579023\n",
      "0.045   11   120   0.0009   0.8926871484205972\n",
      "0.045   11   120   0.001   0.8927964343258168\n",
      "0.045   11   120   0.0011   0.8934366429732855\n",
      "0.045   11   130   0.0009   0.8926313978405696\n",
      "0.045   11   130   0.001   0.8928311399849067\n",
      "0.045   11   130   0.0011   0.8935355910226058\n",
      "0.045   11   140   0.0009   0.8938575413920367\n",
      "0.045   11   140   0.001   0.8939771651531554\n",
      "0.045   11   140   0.0011   0.8939553818139392\n",
      "0.045   11   150   0.0009   0.8949644303915243\n",
      "0.045   11   150   0.001   0.89544735594567\n",
      "0.045   11   150   0.0011   0.8953982511301493\n",
      "0.045   11   160   0.0009   0.8938446190721626\n",
      "0.045   11   160   0.001   0.89517967931971\n",
      "0.045   11   160   0.0011   0.8951815253654062\n",
      "0.045   11   170   0.0009   0.894368526840766\n",
      "0.045   11   170   0.001   0.8956068542938285\n",
      "0.045   11   170   0.0011   0.895535227720813\n",
      "0.045   11   180   0.0009   0.8958892992853588\n",
      "0.045   11   180   0.001   0.8964815107447245\n",
      "0.045   11   180   0.0011   0.8958586549268005\n",
      "0.045   11   190   0.0009   0.8968311517995992\n",
      "0.045   11   190   0.001   0.8972439276172867\n",
      "0.045   11   190   0.0011   0.8960030157002494\n",
      "0.045   11   200   0.0009   0.8964545584775587\n",
      "0.045   11   200   0.001   0.8964844644178384\n",
      "0.045   11   200   0.0011   0.8956275300056269\n",
      "0.045   11   210   0.0009   0.8955175056821285\n",
      "0.045   11   210   0.001   0.8958745309197886\n",
      "0.045   11   210   0.0011   0.8951859558750774\n",
      "0.045   11   220   0.0009   0.8958143498300899\n",
      "0.045   11   220   0.001   0.8960111383013131\n",
      "0.045   11   220   0.0011   0.8952154926062179\n",
      "0.045   11   230   0.0009   0.894889111727116\n",
      "0.045   11   230   0.001   0.8954938762972163\n",
      "0.045   11   230   0.0011   0.8946461721134862\n",
      "0.045   11   240   0.0009   0.8940340233606007\n",
      "0.045   11   240   0.001   0.8950087354882348\n",
      "0.045   11   240   0.0011   0.8944811356282387\n",
      "0.045   11   250   0.0009   0.89462438877427\n",
      "0.045   11   250   0.001   0.8951353742229994\n",
      "0.045   11   250   0.0011   0.8959454190745255\n",
      "0.045   12   100   0.0009   0.8917445574880782\n",
      "0.045   12   100   0.001   0.891747141952053\n",
      "0.045   12   100   0.0011   0.8917560029713951\n",
      "0.045   12   110   0.0009   0.8943028076139785\n",
      "0.045   12   110   0.001   0.8943050228688141\n",
      "0.045   12   110   0.0011   0.8942610869812428\n",
      "0.045   12   120   0.0009   0.8938734173850247\n",
      "0.045   12   120   0.001   0.8938693560844928\n",
      "0.045   12   120   0.0011   0.8938346504254029\n",
      "0.045   12   130   0.0009   0.8939376597752551\n",
      "0.045   12   130   0.001   0.89442612346649\n"
     ]
    },
    {
     "name": "stdout",
     "output_type": "stream",
     "text": [
      "0.045   12   130   0.0011   0.8941100804432873\n",
      "0.045   12   140   0.0009   0.8954846460687349\n",
      "0.045   12   140   0.001   0.8960569202345807\n",
      "0.045   12   140   0.0011   0.8953129638189813\n",
      "0.045   12   150   0.0009   0.896927884594084\n",
      "0.045   12   150   0.001   0.8974628686368652\n",
      "0.045   12   150   0.0011   0.8967358958416713\n",
      "0.045   12   160   0.0009   0.8969862196380864\n",
      "0.045   12   160   0.001   0.897611659919985\n",
      "0.045   12   160   0.0011   0.8973620745418484\n",
      "0.045   12   170   0.0009   0.8974277937686357\n",
      "0.045   12   170   0.001   0.8979291797797446\n",
      "0.045   12   170   0.0011   0.897328476510176\n",
      "0.045   12   180   0.0009   0.8981001236112198\n",
      "0.045   12   180   0.001   0.8989814258266223\n",
      "0.045   12   180   0.0011   0.8979217955969595\n",
      "0.045   12   190   0.0009   0.8986280926803549\n",
      "0.045   12   190   0.001   0.8994137697286904\n",
      "0.045   12   190   0.0011   0.8980465882860277\n",
      "0.045   12   200   0.0009   0.8988736167579596\n",
      "0.045   12   200   0.001   0.8993203598164587\n",
      "0.045   12   200   0.0011   0.8984320426274105\n",
      "0.045   12   210   0.0009   0.8984748708875641\n",
      "0.045   12   210   0.001   0.8995544384107467\n",
      "0.045   12   210   0.0011   0.8989304749654051\n",
      "0.045   12   220   0.0009   0.898406936405941\n",
      "0.045   12   220   0.001   0.8998069774619973\n",
      "0.045   12   220   0.0011   0.8985250833305027\n",
      "0.045   12   230   0.0009   0.8977172537338121\n",
      "0.045   12   230   0.001   0.8994473677603626\n",
      "0.045   12   230   0.0011   0.8980325583387361\n",
      "0.045   12   240   0.0009   0.8972557423097427\n",
      "0.045   12   240   0.001   0.8989208755277844\n",
      "0.045   12   240   0.0011   0.8975381873012732\n",
      "0.045   12   250   0.0009   0.8980702176709402\n",
      "0.045   12   250   0.001   0.898665752012559\n",
      "0.045   12   250   0.0011   0.8978416772137411\n",
      "0.045   13   100   0.0009   0.8905571808962331\n",
      "0.045   13   100   0.001   0.8895968679250299\n",
      "0.045   13   100   0.0011   0.8895344715804957\n",
      "0.045   13   110   0.0009   0.892996176470154\n",
      "0.045   13   110   0.001   0.8933816308115365\n",
      "0.045   13   110   0.0011   0.8933753542561691\n",
      "0.045   13   120   0.0009   0.8931541979817551\n",
      "0.045   13   120   0.001   0.8941621389319223\n",
      "0.045   13   120   0.0011   0.8942987463134467\n",
      "0.045   13   130   0.0009   0.8936581684568387\n",
      "0.045   13   130   0.001   0.8947953326057452\n",
      "0.045   13   130   0.0011   0.8946125740818138\n",
      "0.045   13   140   0.0009   0.8942747477193951\n",
      "0.045   13   140   0.001   0.8958697312009782\n",
      "0.045   13   140   0.0011   0.895578794399245\n",
      "0.045   13   150   0.0009   0.896051382097492\n",
      "0.045   13   150   0.001   0.8978442616777157\n",
      "0.045   13   150   0.0011   0.8972321129248304\n",
      "0.045   13   160   0.0009   0.895691403186718\n",
      "0.045   13   160   0.001   0.8976585494806705\n",
      "0.045   13   160   0.0011   0.8973188770725555\n",
      "0.045   13   170   0.0009   0.8962426324316262\n",
      "0.045   13   170   0.001   0.8977250071257363\n",
      "0.045   13   170   0.0011   0.8976699949639873\n",
      "0.045   13   180   0.0009   0.8972568499371606\n",
      "0.045   13   180   0.001   0.89874956248717\n",
      "0.045   13   180   0.0011   0.8988843238229982\n",
      "0.045   13   190   0.0009   0.8979387792173653\n",
      "0.045   13   190   0.001   0.8996537556692064\n",
      "0.045   13   190   0.0011   0.8995249016796061\n",
      "0.045   13   200   0.0009   0.8978066023455118\n",
      "0.045   13   200   0.001   0.9002009236135827\n",
      "0.045   13   200   0.0011   0.8994370299044635\n",
      "0.045   13   210   0.0009   0.8977486365106488\n",
      "0.045   13   210   0.001   0.9003999273396414\n",
      "0.045   13   210   0.0011   0.8988200814327678\n",
      "0.045   13   220   0.0009   0.8973011550338712\n",
      "0.045   13   220   0.001   0.8998664201334174\n",
      "0.045   13   220   0.0011   0.8984217047715113\n",
      "0.045   13   230   0.0009   0.8971553174238655\n",
      "0.045   13   230   0.001   0.8993831253701323\n",
      "0.045   13   230   0.0011   0.8983338329963686\n",
      "0.045   13   240   0.0009   0.8969009323269184\n",
      "0.045   13   240   0.001   0.8993358666003075\n",
      "0.045   13   240   0.0011   0.8982969120824429\n",
      "0.045   13   250   0.0009   0.8975647703592996\n",
      "0.045   13   250   0.001   0.8993233134895727\n",
      "0.045   13   250   0.0011   0.8981322448063349\n",
      "0.045   14   100   0.0009   0.8942012751006834\n",
      "0.045   14   100   0.001   0.8942016443098227\n",
      "0.045   14   100   0.0011   0.8942012751006834\n",
      "0.045   14   110   0.0009   0.8961045482135447\n",
      "0.045   14   110   0.001   0.8961067634683801\n",
      "0.045   14   110   0.0011   0.8961071326775194\n",
      "0.045   14   120   0.0009   0.8971206117647754\n",
      "0.045   14   120   0.001   0.8971206117647754\n",
      "0.045   14   120   0.0011   0.8971206117647754\n",
      "0.045   14   130   0.0009   0.8982171629083637\n",
      "0.045   14   130   0.001   0.8982167936992245\n",
      "0.045   14   130   0.0011   0.8982149476535282\n",
      "0.045   14   140   0.0009   0.8990179775314086\n",
      "0.045   14   140   0.001   0.8990190851588263\n",
      "0.045   14   140   0.0011   0.8990183467405479\n",
      "0.045   14   150   0.0009   0.9003231318386763\n",
      "0.045   14   150   0.001   0.9003223934203978\n",
      "0.045   14   150   0.0011   0.9003216550021191\n",
      "0.045   14   160   0.0009   0.8997678412932363\n",
      "0.045   14   160   0.001   0.8997678412932362\n",
      "0.045   14   160   0.0011   0.8997671028749579\n",
      "0.045   14   170   0.0009   0.9003833129283748\n",
      "0.045   14   170   0.001   0.9003833129283749\n",
      "0.045   14   170   0.0011   0.9003847897649317\n",
      "0.045   14   180   0.0009   0.900753629695048\n",
      "0.045   14   180   0.001   0.9007547373224658\n",
      "0.045   14   180   0.0011   0.90078242800791\n",
      "0.045   14   190   0.0009   0.9008278407320384\n",
      "0.045   14   190   0.001   0.9008311636142917\n",
      "0.045   14   190   0.0011   0.9008588542997359\n",
      "0.045   14   200   0.0009   0.9004335253713136\n",
      "0.045   14   200   0.001   0.9004346329987314\n",
      "0.045   14   200   0.0011   0.9005572104329643\n",
      "0.045   14   210   0.0009   0.90013778885077\n",
      "0.045   14   210   0.001   0.9001388964781879\n",
      "0.045   14   210   0.0011   0.9003194397472838\n",
      "0.045   14   220   0.0009   0.8991438778478946\n",
      "0.045   14   220   0.001   0.8991438778478946\n",
      "0.045   14   220   0.0011   0.8998405754936696\n",
      "0.045   14   230   0.0009   0.8985206528208317\n",
      "0.045   14   230   0.001   0.8985206528208316\n",
      "0.045   14   230   0.0011   0.8992391338058228\n",
      "0.045   14   240   0.0009   0.8983161109576842\n",
      "0.045   14   240   0.001   0.8983153725394057\n",
      "0.045   14   240   0.0011   0.899022777250219\n",
      "0.045   14   250   0.0009   0.8982042405884898\n",
      "0.045   14   250   0.001   0.8982038713793505\n",
      "0.045   14   250   0.0011   0.8996855076551822\n",
      "0.045   15   100   0.0009   0.8938435114447448\n",
      "0.045   15   100   0.001   0.8928695377353892\n",
      "0.045   15   100   0.0011   0.892872122199364\n",
      "0.045   15   110   0.0009   0.896251124241829\n",
      "0.045   15   110   0.001   0.895729062518922\n",
      "0.045   15   110   0.0011   0.8957301701463398\n",
      "0.045   15   120   0.0009   0.8973653974241017\n",
      "0.045   15   120   0.001   0.8964072997077341\n",
      "0.045   15   120   0.0011   0.8964087765442912\n",
      "0.045   15   130   0.0009   0.8982193781631993\n",
      "0.045   15   130   0.001   0.8984479186203984\n",
      "0.045   15   130   0.0011   0.8984464417838414\n",
      "0.045   15   140   0.0009   0.8986731361953441\n",
      "0.045   15   140   0.001   0.8988850622412766\n",
      "0.045   15   140   0.0011   0.8988854314504158\n",
      "0.045   15   150   0.0009   0.899365772540587\n",
      "0.045   15   150   0.001   0.8992443027337722\n",
      "0.045   15   150   0.0011   0.8992457795703293\n",
      "0.045   15   160   0.0009   0.8987026729264844\n",
      "0.045   15   160   0.001   0.8984224431897898\n",
      "0.045   15   160   0.0011   0.8984220739806503\n",
      "0.045   15   170   0.0009   0.8992136583752139\n",
      "0.045   15   170   0.001   0.8993838637884106\n",
      "0.045   15   170   0.0011   0.8993834945792715\n",
      "0.045   15   180   0.0009   0.9005018290620758\n",
      "0.045   15   180   0.001   0.9001732329281387\n",
      "0.045   15   180   0.0011   0.9001747097646956\n",
      "0.045   15   190   0.0009   0.9007964579552016\n",
      "0.045   15   190   0.001   0.9004479245277446\n",
      "0.045   15   190   0.0011   0.900448662946023\n",
      "0.045   15   200   0.0009   0.900823041013228\n",
      "0.045   15   200   0.001   0.9003777747912861\n",
      "0.045   15   200   0.0011   0.9003781440004253\n",
      "0.045   15   210   0.0009   0.9005081056174433\n",
      "0.045   15   210   0.001   0.9005033058986329\n",
      "0.045   15   210   0.0011   0.9005014598529366\n",
      "0.045   15   220   0.0009   0.9002068309598109\n",
      "0.045   15   220   0.001   0.8997682105023755\n",
      "0.045   15   220   0.0011   0.8997693181297932\n",
      "0.045   15   230   0.0009   0.900280672787662\n",
      "0.045   15   230   0.001   0.8998154692722002\n",
      "0.045   15   230   0.0011   0.8998147308539216\n",
      "0.045   15   240   0.0009   0.90074772234882\n",
      "0.045   15   240   0.001   0.9002788267419657\n"
     ]
    },
    {
     "name": "stdout",
     "output_type": "stream",
     "text": [
      "0.045   15   240   0.0011   0.9002803035785226\n",
      "0.045   15   250   0.0009   0.9008311636142916\n",
      "0.045   15   250   0.001   0.9006783110306399\n",
      "0.045   15   250   0.0011   0.90067831103064\n",
      "0.045   16   100   0.0009   0.8902463068009798\n",
      "0.045   16   100   0.001   0.8902470452192586\n",
      "0.045   16   100   0.0011   0.890249260474094\n",
      "0.045   16   110   0.0009   0.8926974862764963\n",
      "0.045   16   110   0.001   0.8926406280690509\n",
      "0.045   16   110   0.0011   0.8926413664873294\n",
      "0.045   16   120   0.0009   0.8945512853646973\n",
      "0.045   16   120   0.001   0.8944482760148451\n",
      "0.045   16   120   0.0011   0.8944493836422628\n",
      "0.045   16   130   0.0009   0.8949692301103345\n",
      "0.045   16   130   0.001   0.8948019783702518\n",
      "0.045   16   130   0.0011   0.8948023475793909\n",
      "0.045   16   140   0.0009   0.894819700408936\n",
      "0.045   16   140   0.001   0.8952645974217387\n",
      "0.045   16   140   0.0011   0.8952657050491566\n",
      "0.045   16   150   0.0009   0.8959483727476396\n",
      "0.045   16   150   0.001   0.8969182851564634\n",
      "0.045   16   150   0.0011   0.8969197619930203\n",
      "0.045   16   160   0.0009   0.895678480866844\n",
      "0.045   16   160   0.001   0.8968499814657012\n",
      "0.045   16   160   0.0011   0.8968488738382834\n",
      "0.045   16   170   0.0009   0.8967178045938478\n",
      "0.045   16   170   0.001   0.8989149681815565\n",
      "0.045   16   170   0.0011   0.8989164450181133\n",
      "0.045   16   180   0.0009   0.8971682397437393\n",
      "0.045   16   180   0.001   0.8991641843505537\n",
      "0.045   16   180   0.0011   0.899163076723136\n",
      "0.045   16   190   0.0009   0.8978180478288288\n",
      "0.045   16   190   0.001   0.9001126826293007\n",
      "0.045   16   190   0.0011   0.9001123134201614\n",
      "0.045   16   200   0.0009   0.8985361596046805\n",
      "0.045   16   200   0.001   0.8999775520843332\n",
      "0.045   16   200   0.0011   0.8999771828751939\n",
      "0.045   16   210   0.0009   0.8984981310633371\n",
      "0.045   16   210   0.001   0.9000355179191963\n",
      "0.045   16   210   0.0011   0.9000366255466141\n",
      "0.045   16   220   0.0009   0.8981433210805126\n",
      "0.045   16   220   0.001   0.8994178310292221\n",
      "0.045   16   220   0.0011   0.8994185694475006\n",
      "0.045   16   230   0.0009   0.8984538259666266\n",
      "0.045   16   230   0.001   0.8996098197816349\n",
      "0.045   16   230   0.0011   0.899611296618192\n",
      "0.045   16   240   0.0009   0.8987624848070439\n",
      "0.045   16   240   0.001   0.9002212301162419\n",
      "0.045   16   240   0.0011   0.9002182764431279\n",
      "0.045   16   250   0.0009   0.8993565423121057\n",
      "0.045   16   250   0.001   0.9001832015748985\n",
      "0.045   16   250   0.0011   0.9001850476205949\n",
      "0.05   9   100   0.0009   0.8861222407154978\n",
      "0.05   9   100   0.001   0.8871593491876659\n",
      "0.05   9   100   0.0011   0.8871597183968052\n",
      "0.05   9   110   0.0009   0.8864718817703725\n",
      "0.05   9   110   0.001   0.8865276323504002\n",
      "0.05   9   110   0.0011   0.8865276323504001\n",
      "0.05   9   120   0.0009   0.8865006800832345\n",
      "0.05   9   120   0.001   0.8860029861635182\n",
      "0.05   9   120   0.0011   0.8860044630000753\n",
      "0.05   9   130   0.0009   0.8867487886248141\n",
      "0.05   9   130   0.001   0.8861455008912709\n",
      "0.05   9   130   0.0011   0.8861469777278279\n",
      "0.05   9   140   0.0009   0.8885438834598736\n",
      "0.05   9   140   0.001   0.887873399662986\n",
      "0.05   9   140   0.0011   0.8878711844081503\n",
      "0.05   9   150   0.0009   0.8899893372400582\n",
      "0.05   9   150   0.001   0.8893842034608188\n",
      "0.05   9   150   0.0011   0.8893842034608188\n",
      "0.05   9   160   0.0009   0.8892527650072439\n",
      "0.05   9   160   0.001   0.888480748697061\n",
      "0.05   9   160   0.0011   0.8884811179062002\n",
      "0.05   9   170   0.0009   0.8903773760454158\n",
      "0.05   9   170   0.001   0.888660184338739\n",
      "0.05   9   170   0.0011   0.8886605535478782\n",
      "0.05   9   180   0.0009   0.8907931055362172\n",
      "0.05   9   180   0.001   0.889531887116521\n",
      "0.05   9   180   0.0011   0.8895333639530779\n",
      "0.05   9   190   0.0009   0.892300955660936\n",
      "0.05   9   190   0.001   0.8905232136554216\n",
      "0.05   9   190   0.0011   0.8905235828645608\n",
      "0.05   9   200   0.0009   0.8925490642025157\n",
      "0.05   9   200   0.001   0.8908972225134872\n",
      "0.05   9   200   0.0011   0.8908986993500443\n",
      "0.05   9   210   0.0009   0.8918195069433471\n",
      "0.05   9   210   0.001   0.8912834152731482\n",
      "0.05   9   210   0.0011   0.8912841536914267\n",
      "0.05   9   220   0.0009   0.891745665115496\n",
      "0.05   9   220   0.001   0.891071858436355\n",
      "0.05   9   220   0.0011   0.8910714892272158\n",
      "0.05   9   230   0.0009   0.8903515314056678\n",
      "0.05   9   230   0.001   0.8893376831092725\n",
      "0.05   9   230   0.0011   0.8893362062727157\n",
      "0.05   9   240   0.0009   0.889513426659558\n",
      "0.05   9   240   0.001   0.8884733645142758\n",
      "0.05   9   240   0.0011   0.8884748413508329\n",
      "0.05   9   250   0.0009   0.8900059516513249\n",
      "0.05   9   250   0.001   0.8891139423708838\n",
      "0.05   9   250   0.0011   0.8891143115800231\n",
      "0.05   10   100   0.0009   0.890815996502851\n",
      "0.05   10   100   0.001   0.89083630300551\n",
      "0.05   10   100   0.0011   0.8908366722146492\n",
      "0.05   10   110   0.0009   0.8918350137271958\n",
      "0.05   10   110   0.001   0.8919036866270973\n",
      "0.05   10   110   0.0011   0.8919036866270974\n",
      "0.05   10   120   0.0009   0.8922381901072627\n",
      "0.05   10   120   0.001   0.8914820497900677\n",
      "0.05   10   120   0.0011   0.8914846342540425\n",
      "0.05   10   130   0.0009   0.8924652537279046\n",
      "0.05   10   130   0.001   0.8917770478923327\n",
      "0.05   10   130   0.0011   0.8917792631471683\n",
      "0.05   10   140   0.0009   0.8927237001253834\n",
      "0.05   10   140   0.001   0.8922847104588089\n",
      "0.05   10   140   0.0011   0.8922839720405302\n",
      "0.05   10   150   0.0009   0.8939568586504962\n",
      "0.05   10   150   0.001   0.8942769629742306\n",
      "0.05   10   150   0.0011   0.8942780706016483\n",
      "0.05   10   160   0.0009   0.893360585890599\n",
      "0.05   10   160   0.001   0.8941842914802776\n",
      "0.05   10   160   0.0011   0.894183553061999\n",
      "0.05   10   170   0.0009   0.8938922470511266\n",
      "0.05   10   170   0.001   0.8945590387566218\n",
      "0.05   10   170   0.0011   0.8945597771749003\n",
      "0.05   10   180   0.0009   0.8943216372800806\n",
      "0.05   10   180   0.001   0.8953882824833893\n",
      "0.05   10   180   0.0011   0.895386436437693\n",
      "0.05   10   190   0.0009   0.8949016648378507\n",
      "0.05   10   190   0.001   0.8959734789691091\n",
      "0.05   10   190   0.0011   0.8959745865965267\n",
      "0.05   10   200   0.0009   0.8948204388272145\n",
      "0.05   10   200   0.001   0.8960436287055675\n",
      "0.05   10   200   0.0011   0.896044367123846\n",
      "0.05   10   210   0.0009   0.8940871894766533\n",
      "0.05   10   210   0.001   0.8957770597070251\n",
      "0.05   10   210   0.0011   0.8957777981253036\n",
      "0.05   10   220   0.0009   0.8934683949592614\n",
      "0.05   10   220   0.001   0.8958586549268006\n",
      "0.05   10   220   0.0011   0.8958586549268006\n",
      "0.05   10   230   0.0009   0.8930393739394468\n",
      "0.05   10   230   0.001   0.8948957574916226\n",
      "0.05   10   230   0.0011   0.8948953882824835\n",
      "0.05   10   240   0.0009   0.8922980019878219\n",
      "0.05   10   240   0.001   0.8937866532372996\n",
      "0.05   10   240   0.0011   0.8937851764007426\n",
      "0.05   10   250   0.0009   0.8935496209698977\n",
      "0.05   10   250   0.001   0.894025900759537\n",
      "0.05   10   250   0.0011   0.8940768516207542\n",
      "0.05   11   100   0.0009   0.8901447742876847\n",
      "0.05   11   100   0.001   0.8901469895425203\n",
      "0.05   11   100   0.0011   0.8901469895425204\n",
      "0.05   11   110   0.0009   0.8915448153437411\n",
      "0.05   11   110   0.001   0.8915477690168552\n",
      "0.05   11   110   0.0011   0.8915492458534122\n",
      "0.05   11   120   0.0009   0.8923005864517968\n",
      "0.05   11   120   0.001   0.892299478824379\n",
      "0.05   11   120   0.0011   0.8923013248700753\n",
      "0.05   11   130   0.0009   0.8927473295102957\n",
      "0.05   11   130   0.001   0.8927465910920174\n",
      "0.05   11   130   0.0011   0.8927480679285743\n",
      "0.05   11   140   0.0009   0.8936622297573705\n",
      "0.05   11   140   0.001   0.8936625989665097\n",
      "0.05   11   140   0.0011   0.8936633373847882\n",
      "0.05   11   150   0.0009   0.8948510831857728\n",
      "0.05   11   150   0.001   0.894851452394912\n",
      "0.05   11   150   0.0011   0.8948507139766336\n",
      "0.05   11   160   0.0009   0.8938224665238073\n",
      "0.05   11   160   0.001   0.8938209896872504\n",
      "0.05   11   160   0.0011   0.8938235741512252\n",
      "0.05   11   170   0.0009   0.8943958483170709\n",
      "0.05   11   170   0.001   0.8943969559444886\n",
      "0.05   11   170   0.0011   0.8943995404084635\n",
      "0.05   11   180   0.0009   0.8955728870530169\n",
      "0.05   11   180   0.001   0.8955725178438776\n",
      "0.05   11   180   0.0011   0.8955725178438776\n",
      "0.05   11   190   0.0009   0.8957475229758848\n",
      "0.05   11   190   0.001   0.8957486306033026\n",
      "0.05   11   190   0.0011   0.8957493690215811\n",
      "0.05   11   200   0.0009   0.8951660185815576\n",
      "0.05   11   200   0.001   0.8951645417450004\n"
     ]
    },
    {
     "name": "stdout",
     "output_type": "stream",
     "text": [
      "0.05   11   200   0.0011   0.8951649109541396\n",
      "0.05   11   210   0.0009   0.8950013513054497\n",
      "0.05   11   210   0.001   0.8950017205145888\n",
      "0.05   11   210   0.0011   0.8949784603388158\n",
      "0.05   11   220   0.0009   0.8948780354529384\n",
      "0.05   11   220   0.001   0.894878773871217\n",
      "0.05   11   220   0.0011   0.8950382722193752\n",
      "0.05   11   230   0.0009   0.8941547547491372\n",
      "0.05   11   230   0.001   0.8941543855399978\n",
      "0.05   11   230   0.0011   0.894086451058375\n",
      "0.05   11   240   0.0009   0.8933487711981427\n",
      "0.05   11   240   0.001   0.8933480327798643\n",
      "0.05   11   240   0.0011   0.8937021043444101\n",
      "0.05   11   250   0.0009   0.8934842709522495\n",
      "0.05   11   250   0.001   0.8934861169979457\n",
      "0.05   11   250   0.0011   0.8933247726040912\n",
      "0.05   12   100   0.0009   0.8897814724946576\n",
      "0.05   12   100   0.001   0.8909278668720455\n",
      "0.05   12   100   0.0011   0.8909592496488821\n",
      "0.05   12   110   0.0009   0.8915939201592622\n",
      "0.05   12   110   0.001   0.8922584966099217\n",
      "0.05   12   110   0.0011   0.8923245850458482\n",
      "0.05   12   120   0.0009   0.8930312513383832\n",
      "0.05   12   120   0.001   0.8933236649766734\n",
      "0.05   12   120   0.0011   0.8934344277184499\n",
      "0.05   12   130   0.0009   0.8935064235006048\n",
      "0.05   12   130   0.001   0.8947665342928833\n",
      "0.05   12   130   0.0011   0.8945774992135846\n",
      "0.05   12   140   0.0009   0.8949289863141556\n",
      "0.05   12   140   0.001   0.8952871191792333\n",
      "0.05   12   140   0.0011   0.8948551444863044\n",
      "0.05   12   150   0.0009   0.895951695629893\n",
      "0.05   12   150   0.001   0.8962588776337534\n",
      "0.05   12   150   0.0011   0.8964442206216595\n",
      "0.05   12   160   0.0009   0.8950674397413764\n",
      "0.05   12   160   0.001   0.8950999301456308\n",
      "0.05   12   160   0.0011   0.8958335487053313\n",
      "0.05   12   170   0.0009   0.8957213091269975\n",
      "0.05   12   170   0.001   0.8949991360506142\n",
      "0.05   12   170   0.0011   0.8961658369306611\n",
      "0.05   12   180   0.0009   0.8966771915885297\n",
      "0.05   12   180   0.001   0.8955588571057252\n",
      "0.05   12   180   0.0011   0.8969655439262881\n",
      "0.05   12   190   0.0009   0.8970622767207731\n",
      "0.05   12   190   0.001   0.8964154223087977\n",
      "0.05   12   190   0.0011   0.8974735757019034\n",
      "0.05   12   200   0.0009   0.8968016150684587\n",
      "0.05   12   200   0.001   0.8961879894790163\n",
      "0.05   12   200   0.0011   0.8971261499018642\n",
      "0.05   12   210   0.0009   0.8968462893743085\n",
      "0.05   12   210   0.001   0.8961791284596743\n",
      "0.05   12   210   0.0011   0.89744551580732\n",
      "0.05   12   220   0.0009   0.8969441297962112\n",
      "0.05   12   220   0.001   0.8959657255771846\n",
      "0.05   12   220   0.0011   0.897297832151618\n",
      "0.05   12   230   0.0009   0.8965055093387759\n",
      "0.05   12   230   0.001   0.8947584116918197\n",
      "0.05   12   230   0.0011   0.8959753250148053\n",
      "0.05   12   240   0.0009   0.8965841508854373\n",
      "0.05   12   240   0.001   0.8941894604082272\n",
      "0.05   12   240   0.0011   0.8956374986523865\n",
      "0.05   12   250   0.0009   0.896590796649944\n",
      "0.05   12   250   0.001   0.8942496414979259\n",
      "0.05   12   250   0.0011   0.8958608701816362\n",
      "0.05   13   100   0.0009   0.8945797144684201\n",
      "0.05   13   100   0.001   0.8943400977370433\n",
      "0.05   13   100   0.0011   0.891971251899581\n",
      "0.05   13   110   0.0009   0.8968654882495498\n",
      "0.05   13   110   0.001   0.8965944887413366\n",
      "0.05   13   110   0.0011   0.8939823340811051\n",
      "0.05   13   120   0.0009   0.8970755682497862\n",
      "0.05   13   120   0.001   0.8965697517290064\n",
      "0.05   13   120   0.0011   0.8948185927815183\n",
      "0.05   13   130   0.0009   0.8976160904296561\n",
      "0.05   13   130   0.001   0.8975452022749191\n",
      "0.05   13   130   0.0011   0.8940144552762201\n",
      "0.05   13   140   0.0009   0.8979432097270363\n",
      "0.05   13   140   0.001   0.8973081700075172\n",
      "0.05   13   140   0.0011   0.8935795269101774\n",
      "0.05   13   150   0.0009   0.8990390224523461\n",
      "0.05   13   150   0.001   0.897857553206729\n",
      "0.05   13   150   0.0011   0.8943736957687156\n",
      "0.05   13   160   0.0009   0.8989493046315071\n",
      "0.05   13   160   0.001   0.8979184727147063\n",
      "0.05   13   160   0.0011   0.8946339882118906\n",
      "0.05   13   170   0.0009   0.899063390255537\n",
      "0.05   13   170   0.001   0.8981920566868943\n",
      "0.05   13   170   0.0011   0.8953137022372597\n",
      "0.05   13   180   0.0009   0.900128927831428\n",
      "0.05   13   180   0.001   0.8993698338411189\n",
      "0.05   13   180   0.0011   0.8967347882142535\n",
      "0.05   13   190   0.0009   0.8998287608012134\n"
     ]
    },
    {
     "ename": "KeyboardInterrupt",
     "evalue": "",
     "output_type": "error",
     "traceback": [
      "\u001b[1;31m---------------------------------------------------------------------------\u001b[0m",
      "\u001b[1;31mKeyboardInterrupt\u001b[0m                         Traceback (most recent call last)",
      "\u001b[1;32m<ipython-input-109-b879073265ba>\u001b[0m in \u001b[0;36m<module>\u001b[1;34m\u001b[0m\n\u001b[0;32m     11\u001b[0m                 params = {\"objective\":\"binary:logistic\",'colsample_bytree': 0.3,'learning_rate':i,\n\u001b[0;32m     12\u001b[0m                     'max_depth':j,'min_child_weight':1.5,'alpha':l}\n\u001b[1;32m---> 13\u001b[1;33m                 \u001b[0mmodel\u001b[0m \u001b[1;33m=\u001b[0m \u001b[0mxgb\u001b[0m\u001b[1;33m.\u001b[0m\u001b[0mtrain\u001b[0m\u001b[1;33m(\u001b[0m\u001b[0mparams\u001b[0m\u001b[1;33m,\u001b[0m \u001b[0mdtrain\u001b[0m\u001b[1;33m,\u001b[0m \u001b[0mk\u001b[0m\u001b[1;33m)\u001b[0m\u001b[1;33m\u001b[0m\u001b[1;33m\u001b[0m\u001b[0m\n\u001b[0m\u001b[0;32m     14\u001b[0m \u001b[1;33m\u001b[0m\u001b[0m\n\u001b[0;32m     15\u001b[0m                 \u001b[0my1_pred\u001b[0m\u001b[1;33m=\u001b[0m\u001b[0mmodel\u001b[0m\u001b[1;33m.\u001b[0m\u001b[0mpredict\u001b[0m\u001b[1;33m(\u001b[0m\u001b[0mdvalid\u001b[0m\u001b[1;33m)\u001b[0m\u001b[1;33m\u001b[0m\u001b[1;33m\u001b[0m\u001b[0m\n",
      "\u001b[1;32mC:\\Anaconda3\\lib\\site-packages\\xgboost\\training.py\u001b[0m in \u001b[0;36mtrain\u001b[1;34m(params, dtrain, num_boost_round, evals, obj, feval, maximize, early_stopping_rounds, evals_result, verbose_eval, xgb_model, callbacks, learning_rates)\u001b[0m\n\u001b[0;32m    214\u001b[0m                            \u001b[0mevals\u001b[0m\u001b[1;33m=\u001b[0m\u001b[0mevals\u001b[0m\u001b[1;33m,\u001b[0m\u001b[1;33m\u001b[0m\u001b[1;33m\u001b[0m\u001b[0m\n\u001b[0;32m    215\u001b[0m                            \u001b[0mobj\u001b[0m\u001b[1;33m=\u001b[0m\u001b[0mobj\u001b[0m\u001b[1;33m,\u001b[0m \u001b[0mfeval\u001b[0m\u001b[1;33m=\u001b[0m\u001b[0mfeval\u001b[0m\u001b[1;33m,\u001b[0m\u001b[1;33m\u001b[0m\u001b[1;33m\u001b[0m\u001b[0m\n\u001b[1;32m--> 216\u001b[1;33m                            xgb_model=xgb_model, callbacks=callbacks)\n\u001b[0m\u001b[0;32m    217\u001b[0m \u001b[1;33m\u001b[0m\u001b[0m\n\u001b[0;32m    218\u001b[0m \u001b[1;33m\u001b[0m\u001b[0m\n",
      "\u001b[1;32mC:\\Anaconda3\\lib\\site-packages\\xgboost\\training.py\u001b[0m in \u001b[0;36m_train_internal\u001b[1;34m(params, dtrain, num_boost_round, evals, obj, feval, xgb_model, callbacks)\u001b[0m\n\u001b[0;32m     72\u001b[0m         \u001b[1;31m# Skip the first update if it is a recovery step.\u001b[0m\u001b[1;33m\u001b[0m\u001b[1;33m\u001b[0m\u001b[1;33m\u001b[0m\u001b[0m\n\u001b[0;32m     73\u001b[0m         \u001b[1;32mif\u001b[0m \u001b[0mversion\u001b[0m \u001b[1;33m%\u001b[0m \u001b[1;36m2\u001b[0m \u001b[1;33m==\u001b[0m \u001b[1;36m0\u001b[0m\u001b[1;33m:\u001b[0m\u001b[1;33m\u001b[0m\u001b[1;33m\u001b[0m\u001b[0m\n\u001b[1;32m---> 74\u001b[1;33m             \u001b[0mbst\u001b[0m\u001b[1;33m.\u001b[0m\u001b[0mupdate\u001b[0m\u001b[1;33m(\u001b[0m\u001b[0mdtrain\u001b[0m\u001b[1;33m,\u001b[0m \u001b[0mi\u001b[0m\u001b[1;33m,\u001b[0m \u001b[0mobj\u001b[0m\u001b[1;33m)\u001b[0m\u001b[1;33m\u001b[0m\u001b[1;33m\u001b[0m\u001b[0m\n\u001b[0m\u001b[0;32m     75\u001b[0m             \u001b[0mbst\u001b[0m\u001b[1;33m.\u001b[0m\u001b[0msave_rabit_checkpoint\u001b[0m\u001b[1;33m(\u001b[0m\u001b[1;33m)\u001b[0m\u001b[1;33m\u001b[0m\u001b[1;33m\u001b[0m\u001b[0m\n\u001b[0;32m     76\u001b[0m             \u001b[0mversion\u001b[0m \u001b[1;33m+=\u001b[0m \u001b[1;36m1\u001b[0m\u001b[1;33m\u001b[0m\u001b[1;33m\u001b[0m\u001b[0m\n",
      "\u001b[1;32mC:\\Anaconda3\\lib\\site-packages\\xgboost\\core.py\u001b[0m in \u001b[0;36mupdate\u001b[1;34m(self, dtrain, iteration, fobj)\u001b[0m\n\u001b[0;32m   1107\u001b[0m         \u001b[1;32mif\u001b[0m \u001b[0mfobj\u001b[0m \u001b[1;32mis\u001b[0m \u001b[1;32mNone\u001b[0m\u001b[1;33m:\u001b[0m\u001b[1;33m\u001b[0m\u001b[1;33m\u001b[0m\u001b[0m\n\u001b[0;32m   1108\u001b[0m             _check_call(_LIB.XGBoosterUpdateOneIter(self.handle, ctypes.c_int(iteration),\n\u001b[1;32m-> 1109\u001b[1;33m                                                     dtrain.handle))\n\u001b[0m\u001b[0;32m   1110\u001b[0m         \u001b[1;32melse\u001b[0m\u001b[1;33m:\u001b[0m\u001b[1;33m\u001b[0m\u001b[1;33m\u001b[0m\u001b[0m\n\u001b[0;32m   1111\u001b[0m             \u001b[0mpred\u001b[0m \u001b[1;33m=\u001b[0m \u001b[0mself\u001b[0m\u001b[1;33m.\u001b[0m\u001b[0mpredict\u001b[0m\u001b[1;33m(\u001b[0m\u001b[0mdtrain\u001b[0m\u001b[1;33m)\u001b[0m\u001b[1;33m\u001b[0m\u001b[1;33m\u001b[0m\u001b[0m\n",
      "\u001b[1;31mKeyboardInterrupt\u001b[0m: "
     ]
    }
   ],
   "source": [
    "learningrate =[0.04, 0.045, 0.05, 0.055, 0.06, 0.065, 0.07, 0.075, 0.08, 0.085, 0.09, 0.095, 0.1]\n",
    "maxdepth = [9,10,11,12,13,14,15,16]\n",
    "nestimators = [100,110,120,130,140,150,160,170,180,190,200,210,220,230,240,250]\n",
    "al=[0.0009, 0.001, 0.0011]\n",
    "\n",
    "for i in learningrate:\n",
    "    for j in maxdepth:\n",
    "        for k in nestimators:\n",
    "            for l in al:\n",
    "                \n",
    "                params = {\"objective\":\"binary:logistic\",'colsample_bytree': 0.3,'learning_rate':i,\n",
    "                    'max_depth':j,'min_child_weight':1.5,'alpha':l}\n",
    "                model = xgb.train(params, dtrain, k)\n",
    "                \n",
    "                y1_pred=model.predict(dvalid)\n",
    "                \n",
    "                print(i,\" \",j,\" \",k,\" \",l,\" \",roc_auc_score(y_test.to_numpy(), y1_pred))"
   ]
  }
 ],
 "metadata": {
  "kernelspec": {
   "display_name": "Python 3",
   "language": "python",
   "name": "python3"
  },
  "language_info": {
   "codemirror_mode": {
    "name": "ipython",
    "version": 3
   },
   "file_extension": ".py",
   "mimetype": "text/x-python",
   "name": "python",
   "nbconvert_exporter": "python",
   "pygments_lexer": "ipython3",
   "version": "3.7.3"
  }
 },
 "nbformat": 4,
 "nbformat_minor": 2
}
